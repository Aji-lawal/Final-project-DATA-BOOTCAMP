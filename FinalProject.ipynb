{
 "cells": [
  {
   "cell_type": "markdown",
   "id": "ebbfe945-8a9f-42bc-a78d-751b2ee67920",
   "metadata": {},
   "source": [
    "# Names and NetIDs\n",
    "\n",
    "#### Ajibike Lawal (asl613)\n",
    "#### Alan Xia (ax2054)\n",
    "#### Matt Grzyb (mdg9707)\n",
    "#### Ben Davis (bfd233)\n"
   ]
  },
  {
   "cell_type": "markdown",
   "id": "dbb66100-3573-4e46-baf8-f7075ad77e18",
   "metadata": {},
   "source": [
    "# Final Project Question 2: Can normality in serum creatinine or ejection fraction be used as a strong predictor of death, and which works better?"
   ]
  },
  {
   "cell_type": "markdown",
   "id": "cd71f809-575d-4293-a180-5f8203788287",
   "metadata": {},
   "source": [
    "Background: There are many factors that lead to death for those with heart disease. Specifically we want to look at serum creatinine and ejection fraction. We want to identify what a normal range looks like for each, and see whether falling into the normal range or not can be used to correlate with death event. We also want to see whether serum creatinine or ejection fraction works better, as measured by correlation.\n",
    "\n",
    "The implication of this work is that it could allow doctors to better predict the outcome of death based on test result from serum creatinine or ejection fraction. "
   ]
  },
  {
   "cell_type": "markdown",
   "id": "6ef91ad9-a835-421e-8de0-ee94ca28eaaf",
   "metadata": {},
   "source": [
    "### Prepping the Data"
   ]
  },
  {
   "cell_type": "markdown",
   "id": "0ae63d1e-be43-4383-8833-8e82f3f4d57c",
   "metadata": {},
   "source": [
    "We want to set the data .csv file into a data frame"
   ]
  },
  {
   "cell_type": "code",
   "execution_count": 1,
   "id": "7baf5fbf-6f83-4681-a1e0-2e17057eb738",
   "metadata": {},
   "outputs": [],
   "source": [
    "# Imports modules\n",
    "import numpy as np\n",
    "import pandas as pd\n",
    "import os\n",
    "import matplotlib.pyplot as plt"
   ]
  },
  {
   "cell_type": "code",
   "execution_count": 2,
   "id": "03f69a3c-c86e-46f0-b9b7-a88de9f49a6e",
   "metadata": {},
   "outputs": [
    {
     "data": {
      "text/plain": [
       "'C:\\\\Users\\\\axia2\\\\Downloads'"
      ]
     },
     "execution_count": 2,
     "metadata": {},
     "output_type": "execute_result"
    }
   ],
   "source": [
    "# Grabbing the file path\n",
    "my_path = os.getcwd()\n",
    "my_path"
   ]
  },
  {
   "cell_type": "code",
   "execution_count": 3,
   "id": "34af29c5-301f-4788-8974-a910b5958a3b",
   "metadata": {},
   "outputs": [],
   "source": [
    "# Establishing the dataframe\n",
    "df = pd.read_csv(my_path + \"/\" + \"heart_failure_clinical_records_dataset.csv\")"
   ]
  },
  {
   "cell_type": "code",
   "execution_count": 4,
   "id": "c253fd4c-aab4-4e52-85e7-512bfc4f6b49",
   "metadata": {},
   "outputs": [
    {
     "data": {
      "text/html": [
       "<div>\n",
       "<style scoped>\n",
       "    .dataframe tbody tr th:only-of-type {\n",
       "        vertical-align: middle;\n",
       "    }\n",
       "\n",
       "    .dataframe tbody tr th {\n",
       "        vertical-align: top;\n",
       "    }\n",
       "\n",
       "    .dataframe thead th {\n",
       "        text-align: right;\n",
       "    }\n",
       "</style>\n",
       "<table border=\"1\" class=\"dataframe\">\n",
       "  <thead>\n",
       "    <tr style=\"text-align: right;\">\n",
       "      <th></th>\n",
       "      <th>age</th>\n",
       "      <th>anaemia</th>\n",
       "      <th>creatinine_phosphokinase</th>\n",
       "      <th>diabetes</th>\n",
       "      <th>ejection_fraction</th>\n",
       "      <th>high_blood_pressure</th>\n",
       "      <th>platelets</th>\n",
       "      <th>serum_creatinine</th>\n",
       "      <th>serum_sodium</th>\n",
       "      <th>sex</th>\n",
       "      <th>smoking</th>\n",
       "      <th>time</th>\n",
       "      <th>DEATH_EVENT</th>\n",
       "    </tr>\n",
       "  </thead>\n",
       "  <tbody>\n",
       "    <tr>\n",
       "      <th>0</th>\n",
       "      <td>75.0</td>\n",
       "      <td>0</td>\n",
       "      <td>582</td>\n",
       "      <td>0</td>\n",
       "      <td>20</td>\n",
       "      <td>1</td>\n",
       "      <td>265000.00</td>\n",
       "      <td>1.9</td>\n",
       "      <td>130</td>\n",
       "      <td>1</td>\n",
       "      <td>0</td>\n",
       "      <td>4</td>\n",
       "      <td>1</td>\n",
       "    </tr>\n",
       "    <tr>\n",
       "      <th>1</th>\n",
       "      <td>55.0</td>\n",
       "      <td>0</td>\n",
       "      <td>7861</td>\n",
       "      <td>0</td>\n",
       "      <td>38</td>\n",
       "      <td>0</td>\n",
       "      <td>263358.03</td>\n",
       "      <td>1.1</td>\n",
       "      <td>136</td>\n",
       "      <td>1</td>\n",
       "      <td>0</td>\n",
       "      <td>6</td>\n",
       "      <td>1</td>\n",
       "    </tr>\n",
       "    <tr>\n",
       "      <th>2</th>\n",
       "      <td>65.0</td>\n",
       "      <td>0</td>\n",
       "      <td>146</td>\n",
       "      <td>0</td>\n",
       "      <td>20</td>\n",
       "      <td>0</td>\n",
       "      <td>162000.00</td>\n",
       "      <td>1.3</td>\n",
       "      <td>129</td>\n",
       "      <td>1</td>\n",
       "      <td>1</td>\n",
       "      <td>7</td>\n",
       "      <td>1</td>\n",
       "    </tr>\n",
       "    <tr>\n",
       "      <th>3</th>\n",
       "      <td>50.0</td>\n",
       "      <td>1</td>\n",
       "      <td>111</td>\n",
       "      <td>0</td>\n",
       "      <td>20</td>\n",
       "      <td>0</td>\n",
       "      <td>210000.00</td>\n",
       "      <td>1.9</td>\n",
       "      <td>137</td>\n",
       "      <td>1</td>\n",
       "      <td>0</td>\n",
       "      <td>7</td>\n",
       "      <td>1</td>\n",
       "    </tr>\n",
       "    <tr>\n",
       "      <th>4</th>\n",
       "      <td>65.0</td>\n",
       "      <td>1</td>\n",
       "      <td>160</td>\n",
       "      <td>1</td>\n",
       "      <td>20</td>\n",
       "      <td>0</td>\n",
       "      <td>327000.00</td>\n",
       "      <td>2.7</td>\n",
       "      <td>116</td>\n",
       "      <td>0</td>\n",
       "      <td>0</td>\n",
       "      <td>8</td>\n",
       "      <td>1</td>\n",
       "    </tr>\n",
       "    <tr>\n",
       "      <th>...</th>\n",
       "      <td>...</td>\n",
       "      <td>...</td>\n",
       "      <td>...</td>\n",
       "      <td>...</td>\n",
       "      <td>...</td>\n",
       "      <td>...</td>\n",
       "      <td>...</td>\n",
       "      <td>...</td>\n",
       "      <td>...</td>\n",
       "      <td>...</td>\n",
       "      <td>...</td>\n",
       "      <td>...</td>\n",
       "      <td>...</td>\n",
       "    </tr>\n",
       "    <tr>\n",
       "      <th>294</th>\n",
       "      <td>62.0</td>\n",
       "      <td>0</td>\n",
       "      <td>61</td>\n",
       "      <td>1</td>\n",
       "      <td>38</td>\n",
       "      <td>1</td>\n",
       "      <td>155000.00</td>\n",
       "      <td>1.1</td>\n",
       "      <td>143</td>\n",
       "      <td>1</td>\n",
       "      <td>1</td>\n",
       "      <td>270</td>\n",
       "      <td>0</td>\n",
       "    </tr>\n",
       "    <tr>\n",
       "      <th>295</th>\n",
       "      <td>55.0</td>\n",
       "      <td>0</td>\n",
       "      <td>1820</td>\n",
       "      <td>0</td>\n",
       "      <td>38</td>\n",
       "      <td>0</td>\n",
       "      <td>270000.00</td>\n",
       "      <td>1.2</td>\n",
       "      <td>139</td>\n",
       "      <td>0</td>\n",
       "      <td>0</td>\n",
       "      <td>271</td>\n",
       "      <td>0</td>\n",
       "    </tr>\n",
       "    <tr>\n",
       "      <th>296</th>\n",
       "      <td>45.0</td>\n",
       "      <td>0</td>\n",
       "      <td>2060</td>\n",
       "      <td>1</td>\n",
       "      <td>60</td>\n",
       "      <td>0</td>\n",
       "      <td>742000.00</td>\n",
       "      <td>0.8</td>\n",
       "      <td>138</td>\n",
       "      <td>0</td>\n",
       "      <td>0</td>\n",
       "      <td>278</td>\n",
       "      <td>0</td>\n",
       "    </tr>\n",
       "    <tr>\n",
       "      <th>297</th>\n",
       "      <td>45.0</td>\n",
       "      <td>0</td>\n",
       "      <td>2413</td>\n",
       "      <td>0</td>\n",
       "      <td>38</td>\n",
       "      <td>0</td>\n",
       "      <td>140000.00</td>\n",
       "      <td>1.4</td>\n",
       "      <td>140</td>\n",
       "      <td>1</td>\n",
       "      <td>1</td>\n",
       "      <td>280</td>\n",
       "      <td>0</td>\n",
       "    </tr>\n",
       "    <tr>\n",
       "      <th>298</th>\n",
       "      <td>50.0</td>\n",
       "      <td>0</td>\n",
       "      <td>196</td>\n",
       "      <td>0</td>\n",
       "      <td>45</td>\n",
       "      <td>0</td>\n",
       "      <td>395000.00</td>\n",
       "      <td>1.6</td>\n",
       "      <td>136</td>\n",
       "      <td>1</td>\n",
       "      <td>1</td>\n",
       "      <td>285</td>\n",
       "      <td>0</td>\n",
       "    </tr>\n",
       "  </tbody>\n",
       "</table>\n",
       "<p>299 rows × 13 columns</p>\n",
       "</div>"
      ],
      "text/plain": [
       "      age  anaemia  creatinine_phosphokinase  diabetes  ejection_fraction  \\\n",
       "0    75.0        0                       582         0                 20   \n",
       "1    55.0        0                      7861         0                 38   \n",
       "2    65.0        0                       146         0                 20   \n",
       "3    50.0        1                       111         0                 20   \n",
       "4    65.0        1                       160         1                 20   \n",
       "..    ...      ...                       ...       ...                ...   \n",
       "294  62.0        0                        61         1                 38   \n",
       "295  55.0        0                      1820         0                 38   \n",
       "296  45.0        0                      2060         1                 60   \n",
       "297  45.0        0                      2413         0                 38   \n",
       "298  50.0        0                       196         0                 45   \n",
       "\n",
       "     high_blood_pressure  platelets  serum_creatinine  serum_sodium  sex  \\\n",
       "0                      1  265000.00               1.9           130    1   \n",
       "1                      0  263358.03               1.1           136    1   \n",
       "2                      0  162000.00               1.3           129    1   \n",
       "3                      0  210000.00               1.9           137    1   \n",
       "4                      0  327000.00               2.7           116    0   \n",
       "..                   ...        ...               ...           ...  ...   \n",
       "294                    1  155000.00               1.1           143    1   \n",
       "295                    0  270000.00               1.2           139    0   \n",
       "296                    0  742000.00               0.8           138    0   \n",
       "297                    0  140000.00               1.4           140    1   \n",
       "298                    0  395000.00               1.6           136    1   \n",
       "\n",
       "     smoking  time  DEATH_EVENT  \n",
       "0          0     4            1  \n",
       "1          0     6            1  \n",
       "2          1     7            1  \n",
       "3          0     7            1  \n",
       "4          0     8            1  \n",
       "..       ...   ...          ...  \n",
       "294        1   270            0  \n",
       "295        0   271            0  \n",
       "296        0   278            0  \n",
       "297        1   280            0  \n",
       "298        1   285            0  \n",
       "\n",
       "[299 rows x 13 columns]"
      ]
     },
     "execution_count": 4,
     "metadata": {},
     "output_type": "execute_result"
    }
   ],
   "source": [
    "# Prints data frame\n",
    "df"
   ]
  },
  {
   "cell_type": "markdown",
   "id": "d55632c3-0bba-4711-8ee4-f06b68681224",
   "metadata": {},
   "source": [
    "The data needs to be checked for nulls to ensure the data is usable"
   ]
  },
  {
   "cell_type": "code",
   "execution_count": 5,
   "id": "d56833dd-3eb0-4555-ab9a-3f8fdfb47962",
   "metadata": {},
   "outputs": [
    {
     "data": {
      "text/plain": [
       "age                         0\n",
       "anaemia                     0\n",
       "creatinine_phosphokinase    0\n",
       "diabetes                    0\n",
       "ejection_fraction           0\n",
       "high_blood_pressure         0\n",
       "platelets                   0\n",
       "serum_creatinine            0\n",
       "serum_sodium                0\n",
       "sex                         0\n",
       "smoking                     0\n",
       "time                        0\n",
       "DEATH_EVENT                 0\n",
       "dtype: int64"
      ]
     },
     "execution_count": 5,
     "metadata": {},
     "output_type": "execute_result"
    }
   ],
   "source": [
    "# Takes the sum of null values for each column\n",
    "df.isna().sum()"
   ]
  },
  {
   "cell_type": "markdown",
   "id": "93b28f16-7b2c-4021-ac87-e20cccb4ab14",
   "metadata": {},
   "source": [
    "We drop all columns in df except ejection fraction, serume creatinine, sex, and death event. We keep sex as gender is a factor of consideration we use later."
   ]
  },
  {
   "cell_type": "code",
   "execution_count": 6,
   "id": "2aa2fa63-8f72-483f-a89a-26350311df70",
   "metadata": {},
   "outputs": [],
   "source": [
    "# Sets df as only having the columns targeted\n",
    "df = df[[\"ejection_fraction\",\"serum_creatinine\",\"sex\",\"DEATH_EVENT\"]]"
   ]
  },
  {
   "cell_type": "markdown",
   "id": "2649c6fb-5acf-4ead-a75c-34bb467ce8e9",
   "metadata": {},
   "source": [
    "Printing the new dataframe"
   ]
  },
  {
   "cell_type": "code",
   "execution_count": 7,
   "id": "7334e2e8-1599-4679-a5b7-602493773e10",
   "metadata": {},
   "outputs": [
    {
     "data": {
      "text/html": [
       "<div>\n",
       "<style scoped>\n",
       "    .dataframe tbody tr th:only-of-type {\n",
       "        vertical-align: middle;\n",
       "    }\n",
       "\n",
       "    .dataframe tbody tr th {\n",
       "        vertical-align: top;\n",
       "    }\n",
       "\n",
       "    .dataframe thead th {\n",
       "        text-align: right;\n",
       "    }\n",
       "</style>\n",
       "<table border=\"1\" class=\"dataframe\">\n",
       "  <thead>\n",
       "    <tr style=\"text-align: right;\">\n",
       "      <th></th>\n",
       "      <th>ejection_fraction</th>\n",
       "      <th>serum_creatinine</th>\n",
       "      <th>sex</th>\n",
       "      <th>DEATH_EVENT</th>\n",
       "    </tr>\n",
       "  </thead>\n",
       "  <tbody>\n",
       "    <tr>\n",
       "      <th>0</th>\n",
       "      <td>20</td>\n",
       "      <td>1.9</td>\n",
       "      <td>1</td>\n",
       "      <td>1</td>\n",
       "    </tr>\n",
       "    <tr>\n",
       "      <th>1</th>\n",
       "      <td>38</td>\n",
       "      <td>1.1</td>\n",
       "      <td>1</td>\n",
       "      <td>1</td>\n",
       "    </tr>\n",
       "    <tr>\n",
       "      <th>2</th>\n",
       "      <td>20</td>\n",
       "      <td>1.3</td>\n",
       "      <td>1</td>\n",
       "      <td>1</td>\n",
       "    </tr>\n",
       "    <tr>\n",
       "      <th>3</th>\n",
       "      <td>20</td>\n",
       "      <td>1.9</td>\n",
       "      <td>1</td>\n",
       "      <td>1</td>\n",
       "    </tr>\n",
       "    <tr>\n",
       "      <th>4</th>\n",
       "      <td>20</td>\n",
       "      <td>2.7</td>\n",
       "      <td>0</td>\n",
       "      <td>1</td>\n",
       "    </tr>\n",
       "    <tr>\n",
       "      <th>...</th>\n",
       "      <td>...</td>\n",
       "      <td>...</td>\n",
       "      <td>...</td>\n",
       "      <td>...</td>\n",
       "    </tr>\n",
       "    <tr>\n",
       "      <th>294</th>\n",
       "      <td>38</td>\n",
       "      <td>1.1</td>\n",
       "      <td>1</td>\n",
       "      <td>0</td>\n",
       "    </tr>\n",
       "    <tr>\n",
       "      <th>295</th>\n",
       "      <td>38</td>\n",
       "      <td>1.2</td>\n",
       "      <td>0</td>\n",
       "      <td>0</td>\n",
       "    </tr>\n",
       "    <tr>\n",
       "      <th>296</th>\n",
       "      <td>60</td>\n",
       "      <td>0.8</td>\n",
       "      <td>0</td>\n",
       "      <td>0</td>\n",
       "    </tr>\n",
       "    <tr>\n",
       "      <th>297</th>\n",
       "      <td>38</td>\n",
       "      <td>1.4</td>\n",
       "      <td>1</td>\n",
       "      <td>0</td>\n",
       "    </tr>\n",
       "    <tr>\n",
       "      <th>298</th>\n",
       "      <td>45</td>\n",
       "      <td>1.6</td>\n",
       "      <td>1</td>\n",
       "      <td>0</td>\n",
       "    </tr>\n",
       "  </tbody>\n",
       "</table>\n",
       "<p>299 rows × 4 columns</p>\n",
       "</div>"
      ],
      "text/plain": [
       "     ejection_fraction  serum_creatinine  sex  DEATH_EVENT\n",
       "0                   20               1.9    1            1\n",
       "1                   38               1.1    1            1\n",
       "2                   20               1.3    1            1\n",
       "3                   20               1.9    1            1\n",
       "4                   20               2.7    0            1\n",
       "..                 ...               ...  ...          ...\n",
       "294                 38               1.1    1            0\n",
       "295                 38               1.2    0            0\n",
       "296                 60               0.8    0            0\n",
       "297                 38               1.4    1            0\n",
       "298                 45               1.6    1            0\n",
       "\n",
       "[299 rows x 4 columns]"
      ]
     },
     "execution_count": 7,
     "metadata": {},
     "output_type": "execute_result"
    }
   ],
   "source": [
    "# Reprints the dataframe\n",
    "df"
   ]
  },
  {
   "cell_type": "markdown",
   "id": "f0d8a6d1-dbdc-412a-bed0-1b6d99ec400e",
   "metadata": {},
   "source": [
    "### Producing Scatterplots"
   ]
  },
  {
   "cell_type": "markdown",
   "id": "87b0a7af-76cd-416a-aca5-c17d96700805",
   "metadata": {},
   "source": [
    "We plot both serum creatinine and ejection fraction against death event to see what we can observe. We expect death event to only be 0 or 1 since it is binary data where 1 = death and 0 = no death."
   ]
  },
  {
   "cell_type": "code",
   "execution_count": 8,
   "id": "054e4ed2-62b7-43d9-b21a-a975259260eb",
   "metadata": {},
   "outputs": [
    {
     "data": {
      "image/png": "[encoded data removed]",
      "text/plain": [
       "<Figure size 432x288 with 1 Axes>"
      ]
     },
     "metadata": {
      "needs_background": "light"
     },
     "output_type": "display_data"
    }
   ],
   "source": [
    "# Produces a scatterplot where the x-axis is serum creatinine and the y-axis is death event\n",
    "plot1 = df.plot.scatter(x='serum_creatinine',y='DEATH_EVENT')"
   ]
  },
  {
   "cell_type": "markdown",
   "id": "0f34fec5-1fd7-41a5-9381-2e70090cab01",
   "metadata": {},
   "source": [
    "The tight clustering to the left indicates that there is a normal range for serum creatinine. The difference between the top and bottom tell us that there is some correlation between serum creatinine and death as the points plotted at the top are those representing death event and the points at the bottom are those representing no death event. "
   ]
  },
  {
   "cell_type": "code",
   "execution_count": 9,
   "id": "496457b8-094b-4f8f-b593-3e1664939b7c",
   "metadata": {},
   "outputs": [
    {
     "data": {
      "image/png": "[encoded data removed]",
      "text/plain": [
       "<Figure size 432x288 with 1 Axes>"
      ]
     },
     "metadata": {
      "needs_background": "light"
     },
     "output_type": "display_data"
    }
   ],
   "source": [
    "# Produces a scatterplot where the x-axis is ejection fraction and the y-axis is death event\n",
    "plot2 = df.plot.scatter(x='ejection_fraction',y='DEATH_EVENT')"
   ]
  },
  {
   "cell_type": "markdown",
   "id": "00d1601e-20b6-4284-8488-735739cfd943",
   "metadata": {},
   "source": [
    "Again comparing the top and bottom points plotted, it can be observed that the two lines are similar. Indicates that there is a weaker correlation, but we still want to check. "
   ]
  },
  {
   "cell_type": "markdown",
   "id": "b78b124b-b468-46e9-a8cb-4d829bbc12c9",
   "metadata": {},
   "source": [
    "### Finding Normal Ranges"
   ]
  },
  {
   "cell_type": "markdown",
   "id": "004bc746-f546-4069-8d95-2dbac47182ae",
   "metadata": {},
   "source": [
    "We look to medical resources for normal levels and in this case, the source in both is the Mayo Clinic"
   ]
  },
  {
   "cell_type": "markdown",
   "id": "27c77c24-a054-4e40-a7f4-b28a2bbab131",
   "metadata": {},
   "source": [
    "##### Normal Creatinine Levels: "
   ]
  },
  {
   "cell_type": "markdown",
   "id": "c57c82d1-71df-44b2-8c0e-f27d9a32803f",
   "metadata": {},
   "source": [
    "For adult men, 0.74 to 1.35 mg/dL (65.4 to 119.3 micromoles/L)\n"
   ]
  },
  {
   "cell_type": "markdown",
   "id": "8dfb48ff-983c-4190-b53e-bfc7a395f039",
   "metadata": {},
   "source": [
    "For adult women, 0.59 to 1.04 mg/dL (52.2 to 91.9 micromoles/L)\n"
   ]
  },
  {
   "cell_type": "markdown",
   "id": "2ab0a84a-bad0-4120-9a52-072437e6abc5",
   "metadata": {},
   "source": [
    "Source: https://www.mayoclinic.org/tests-procedures/creatinine-test/about/pac-20384646"
   ]
  },
  {
   "cell_type": "markdown",
   "id": "3627a394-26a1-43a4-9143-6eaee68b464a",
   "metadata": {},
   "source": [
    "##### Normal Serum Creatinine Levels:"
   ]
  },
  {
   "cell_type": "markdown",
   "id": "fe17dabf-a7a8-4560-bf4c-6fd5eb9d6254",
   "metadata": {},
   "source": [
    "A normal ejection fraction is about 50% to 75%, according to the American Heart Association."
   ]
  },
  {
   "cell_type": "markdown",
   "id": "6a519f22-e54e-4372-8c5c-a5d3d462ac78",
   "metadata": {},
   "source": [
    "A borderline ejection fraction can range between 41% and 50%."
   ]
  },
  {
   "cell_type": "markdown",
   "id": "2ff2cd3d-4b75-4c68-902f-598a512ce1d2",
   "metadata": {},
   "source": [
    "Below 40% is considered heart failure."
   ]
  },
  {
   "cell_type": "markdown",
   "id": "c0260c73-480d-4a5d-b536-073a97d4f8df",
   "metadata": {},
   "source": [
    "Source: https://www.mayoclinic.org/tests-procedures/ekg/expert-answers/ejection-fraction/faq-20058286"
   ]
  },
  {
   "cell_type": "markdown",
   "id": "999616b3-f5e3-4c65-add0-f3bbb871d633",
   "metadata": {},
   "source": [
    "Note: For the sake of the test and determining a normal ejection fraction range, we count above 50 as normal"
   ]
  },
  {
   "cell_type": "markdown",
   "id": "bd72ef44-8296-4fd3-b74a-633296d36b4f",
   "metadata": {},
   "source": [
    "### Data Conversion"
   ]
  },
  {
   "cell_type": "markdown",
   "id": "5b0d340c-0dd1-4f6a-86b0-4efabcb35330",
   "metadata": {},
   "source": [
    "Now that we have normal and abnormal ranges for both serum creatinine and ejection fraction, we add two new columns (one for normal serum creatinine and another for normal ejection fraction). For both, we use binary values where 1 = normal and 0 = abnormal. "
   ]
  },
  {
   "cell_type": "code",
   "execution_count": 10,
   "id": "223b9402-f0d7-402d-b9d0-0af853d6b3f0",
   "metadata": {},
   "outputs": [],
   "source": [
    "# Creates a function using if statements to return the binary value representing normal or not. \n",
    "# A function is used because there are two factors that go into a normal value (sex and serum creatinine)\n",
    "def testcreatinine(row):\n",
    "    if row['sex'] == 1:\n",
    "        if .74 < row['serum_creatinine'] < 1.35:\n",
    "            return 1\n",
    "        else:\n",
    "            return 0\n",
    "    if row['sex'] == 0:\n",
    "        if .59 < row['serum_creatinine'] < 1.04:\n",
    "            return 1\n",
    "        else:\n",
    "            return 0"
   ]
  },
  {
   "cell_type": "code",
   "execution_count": 11,
   "id": "2c242e78-5522-4760-b5d2-40ad2f329c99",
   "metadata": {},
   "outputs": [
    {
     "name": "stderr",
     "output_type": "stream",
     "text": [
      "<ipython-input-11-2439c66b71cb>:2: SettingWithCopyWarning: \n",
      "A value is trying to be set on a copy of a slice from a DataFrame.\n",
      "Try using .loc[row_indexer,col_indexer] = value instead\n",
      "\n",
      "See the caveats in the documentation: https://pandas.pydata.org/pandas-docs/stable/user_guide/indexing.html#returning-a-view-versus-a-copy\n",
      "  df['normal_serum_creatinine'] = df.apply(testcreatinine,axis=1)\n"
     ]
    }
   ],
   "source": [
    "# Creates a new normal column applying the function written above\n",
    "df['normal_serum_creatinine'] = df.apply(testcreatinine,axis=1)"
   ]
  },
  {
   "cell_type": "code",
   "execution_count": 12,
   "id": "60189959-c969-4444-b9b0-a0c1ce41a2cd",
   "metadata": {},
   "outputs": [
    {
     "name": "stderr",
     "output_type": "stream",
     "text": [
      "<ipython-input-12-c87f6ecf12e2>:2: SettingWithCopyWarning: \n",
      "A value is trying to be set on a copy of a slice from a DataFrame.\n",
      "Try using .loc[row_indexer,col_indexer] = value instead\n",
      "\n",
      "See the caveats in the documentation: https://pandas.pydata.org/pandas-docs/stable/user_guide/indexing.html#returning-a-view-versus-a-copy\n",
      "  df['normal_ejection_fraction'] = np.where(df['ejection_fraction']> 40, 1, 0)\n"
     ]
    }
   ],
   "source": [
    "# Creates a new normal column using the 40% normal condition\n",
    "df['normal_ejection_fraction'] = np.where(df['ejection_fraction']> 40, 1, 0)"
   ]
  },
  {
   "cell_type": "markdown",
   "id": "680c8e35-c586-4a71-8223-9c48246138f7",
   "metadata": {},
   "source": [
    "### The New Dataframe"
   ]
  },
  {
   "cell_type": "code",
   "execution_count": 13,
   "id": "35e80dd3-6af7-4630-947f-3f28a43c5372",
   "metadata": {},
   "outputs": [
    {
     "data": {
      "text/html": [
       "<div>\n",
       "<style scoped>\n",
       "    .dataframe tbody tr th:only-of-type {\n",
       "        vertical-align: middle;\n",
       "    }\n",
       "\n",
       "    .dataframe tbody tr th {\n",
       "        vertical-align: top;\n",
       "    }\n",
       "\n",
       "    .dataframe thead th {\n",
       "        text-align: right;\n",
       "    }\n",
       "</style>\n",
       "<table border=\"1\" class=\"dataframe\">\n",
       "  <thead>\n",
       "    <tr style=\"text-align: right;\">\n",
       "      <th></th>\n",
       "      <th>ejection_fraction</th>\n",
       "      <th>serum_creatinine</th>\n",
       "      <th>sex</th>\n",
       "      <th>DEATH_EVENT</th>\n",
       "      <th>normal_serum_creatinine</th>\n",
       "      <th>normal_ejection_fraction</th>\n",
       "    </tr>\n",
       "  </thead>\n",
       "  <tbody>\n",
       "    <tr>\n",
       "      <th>0</th>\n",
       "      <td>20</td>\n",
       "      <td>1.9</td>\n",
       "      <td>1</td>\n",
       "      <td>1</td>\n",
       "      <td>0</td>\n",
       "      <td>0</td>\n",
       "    </tr>\n",
       "    <tr>\n",
       "      <th>1</th>\n",
       "      <td>38</td>\n",
       "      <td>1.1</td>\n",
       "      <td>1</td>\n",
       "      <td>1</td>\n",
       "      <td>1</td>\n",
       "      <td>0</td>\n",
       "    </tr>\n",
       "    <tr>\n",
       "      <th>2</th>\n",
       "      <td>20</td>\n",
       "      <td>1.3</td>\n",
       "      <td>1</td>\n",
       "      <td>1</td>\n",
       "      <td>1</td>\n",
       "      <td>0</td>\n",
       "    </tr>\n",
       "    <tr>\n",
       "      <th>3</th>\n",
       "      <td>20</td>\n",
       "      <td>1.9</td>\n",
       "      <td>1</td>\n",
       "      <td>1</td>\n",
       "      <td>0</td>\n",
       "      <td>0</td>\n",
       "    </tr>\n",
       "    <tr>\n",
       "      <th>4</th>\n",
       "      <td>20</td>\n",
       "      <td>2.7</td>\n",
       "      <td>0</td>\n",
       "      <td>1</td>\n",
       "      <td>0</td>\n",
       "      <td>0</td>\n",
       "    </tr>\n",
       "    <tr>\n",
       "      <th>...</th>\n",
       "      <td>...</td>\n",
       "      <td>...</td>\n",
       "      <td>...</td>\n",
       "      <td>...</td>\n",
       "      <td>...</td>\n",
       "      <td>...</td>\n",
       "    </tr>\n",
       "    <tr>\n",
       "      <th>294</th>\n",
       "      <td>38</td>\n",
       "      <td>1.1</td>\n",
       "      <td>1</td>\n",
       "      <td>0</td>\n",
       "      <td>1</td>\n",
       "      <td>0</td>\n",
       "    </tr>\n",
       "    <tr>\n",
       "      <th>295</th>\n",
       "      <td>38</td>\n",
       "      <td>1.2</td>\n",
       "      <td>0</td>\n",
       "      <td>0</td>\n",
       "      <td>0</td>\n",
       "      <td>0</td>\n",
       "    </tr>\n",
       "    <tr>\n",
       "      <th>296</th>\n",
       "      <td>60</td>\n",
       "      <td>0.8</td>\n",
       "      <td>0</td>\n",
       "      <td>0</td>\n",
       "      <td>1</td>\n",
       "      <td>1</td>\n",
       "    </tr>\n",
       "    <tr>\n",
       "      <th>297</th>\n",
       "      <td>38</td>\n",
       "      <td>1.4</td>\n",
       "      <td>1</td>\n",
       "      <td>0</td>\n",
       "      <td>0</td>\n",
       "      <td>0</td>\n",
       "    </tr>\n",
       "    <tr>\n",
       "      <th>298</th>\n",
       "      <td>45</td>\n",
       "      <td>1.6</td>\n",
       "      <td>1</td>\n",
       "      <td>0</td>\n",
       "      <td>0</td>\n",
       "      <td>1</td>\n",
       "    </tr>\n",
       "  </tbody>\n",
       "</table>\n",
       "<p>299 rows × 6 columns</p>\n",
       "</div>"
      ],
      "text/plain": [
       "     ejection_fraction  serum_creatinine  sex  DEATH_EVENT  \\\n",
       "0                   20               1.9    1            1   \n",
       "1                   38               1.1    1            1   \n",
       "2                   20               1.3    1            1   \n",
       "3                   20               1.9    1            1   \n",
       "4                   20               2.7    0            1   \n",
       "..                 ...               ...  ...          ...   \n",
       "294                 38               1.1    1            0   \n",
       "295                 38               1.2    0            0   \n",
       "296                 60               0.8    0            0   \n",
       "297                 38               1.4    1            0   \n",
       "298                 45               1.6    1            0   \n",
       "\n",
       "     normal_serum_creatinine  normal_ejection_fraction  \n",
       "0                          0                         0  \n",
       "1                          1                         0  \n",
       "2                          1                         0  \n",
       "3                          0                         0  \n",
       "4                          0                         0  \n",
       "..                       ...                       ...  \n",
       "294                        1                         0  \n",
       "295                        0                         0  \n",
       "296                        1                         1  \n",
       "297                        0                         0  \n",
       "298                        0                         1  \n",
       "\n",
       "[299 rows x 6 columns]"
      ]
     },
     "execution_count": 13,
     "metadata": {},
     "output_type": "execute_result"
    }
   ],
   "source": [
    "# Prints the data frame with the new columns added\n",
    "df"
   ]
  },
  {
   "cell_type": "markdown",
   "id": "a55e995f-fea4-4bec-9843-9fd25459d661",
   "metadata": {},
   "source": [
    "### Finding Correlations"
   ]
  },
  {
   "cell_type": "code",
   "execution_count": 14,
   "id": "b1d07c4b-04c5-4b79-8bd7-c4e40f3cdbb0",
   "metadata": {},
   "outputs": [],
   "source": [
    "# Stores the correlation between normal serum creatinine and death event\n",
    "corr_serum_creatinine = df[\"normal_serum_creatinine\"].corr(df[\"DEATH_EVENT\"])"
   ]
  },
  {
   "cell_type": "code",
   "execution_count": 15,
   "id": "a8853930-6e5a-4e54-8d22-b9bdc3dea1dd",
   "metadata": {},
   "outputs": [
    {
     "data": {
      "text/plain": [
       "-0.2208197935444394"
      ]
     },
     "execution_count": 15,
     "metadata": {},
     "output_type": "execute_result"
    }
   ],
   "source": [
    "# Prints the correlation\n",
    "corr_serum_creatinine"
   ]
  },
  {
   "cell_type": "code",
   "execution_count": 16,
   "id": "2caea35e-19f6-4778-bbd3-21f375ee1daa",
   "metadata": {},
   "outputs": [],
   "source": [
    "# Stores the correlation between normal ejection fraction and death event\n",
    "corr_ejection_fraction = df[\"normal_ejection_fraction\"].corr(df[\"DEATH_EVENT\"])"
   ]
  },
  {
   "cell_type": "code",
   "execution_count": 17,
   "id": "212b3826-028d-4660-8313-7d400cff7d0c",
   "metadata": {},
   "outputs": [
    {
     "data": {
      "text/plain": [
       "-0.10818376900701121"
      ]
     },
     "execution_count": 17,
     "metadata": {},
     "output_type": "execute_result"
    }
   ],
   "source": [
    "# Prints the correlation\n",
    "corr_ejection_fraction"
   ]
  },
  {
   "cell_type": "markdown",
   "id": "d7a74be3-75c9-405e-9f3f-1bb2e46f5ae0",
   "metadata": {},
   "source": [
    "### Conclusion"
   ]
  },
  {
   "cell_type": "markdown",
   "id": "ffacf44c-6283-4f9f-834d-c8e0a69c28b8",
   "metadata": {},
   "source": [
    "The correlations we receive are represented in statistics by r, or the coefficient of correlation. "
   ]
  },
  {
   "cell_type": "markdown",
   "id": "91dd50c0-64be-4b43-a970-2dfddf2109f2",
   "metadata": {},
   "source": [
    "The correlation between normal serum creatinine and death event is -.2208"
   ]
  },
  {
   "cell_type": "markdown",
   "id": "f07d6e9a-2cf7-4dc8-8fc5-c0e91b78aad9",
   "metadata": {},
   "source": [
    "The correlation between normal ejection fraction and death event is -.1082"
   ]
  },
  {
   "cell_type": "markdown",
   "id": "63d2f96f-3935-4b8a-8bdd-9a4168695efa",
   "metadata": {},
   "source": [
    "Both have negative correlations which gives us the logical conclusion that abnormal values lead to death events."
   ]
  },
  {
   "cell_type": "markdown",
   "id": "fbdf09d8-40b1-40ed-b964-3de605d0de35",
   "metadata": {},
   "source": [
    "However, both correlations are low, which tells as that this would not be an effective metric. However, previous results in part 1 of the final indicate that in tandem with other factors both serum creatinine and ejection fraction are useful, they just cannot be used individually."
   ]
  },
  {
   "cell_type": "markdown",
   "id": "6c4216b2-22cc-433c-bd1c-7ecdc048a28e",
   "metadata": {},
   "source": [
    "As to which one is more effective, the efficacy of both are low but the correlation with normal serum creatinine and death event is better in comparison."
   ]
  },
  {
   "cell_type": "code",
   "execution_count": null,
   "id": "5cb41fc8-3b06-428b-bdfc-415c2981164f",
   "metadata": {},
   "outputs": [],
   "source": []
  }
 ],
 "metadata": {
  "kernelspec": {
   "display_name": "Python 3",
   "language": "python",
   "name": "python3"
  },
  "language_info": {
   "codemirror_mode": {
    "name": "ipython",
    "version": 3
   },
   "file_extension": ".py",
   "mimetype": "text/x-python",
   "name": "python",
   "nbconvert_exporter": "python",
   "pygments_lexer": "ipython3",
   "version": "3.8.8"
  }
 },
 "nbformat": 4,
 "nbformat_minor": 5
}
